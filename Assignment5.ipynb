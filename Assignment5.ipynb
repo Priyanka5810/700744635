{
  "nbformat": 4,
  "nbformat_minor": 0,
  "metadata": {
    "colab": {
      "provenance": [],
      "authorship_tag": "ABX9TyPtFMCB+UuLf0UJ9AIaTxpA",
      "include_colab_link": true
    },
    "kernelspec": {
      "name": "python3",
      "display_name": "Python 3"
    },
    "language_info": {
      "name": "python"
    }
  },
  "cells": [
    {
      "cell_type": "markdown",
      "metadata": {
        "id": "view-in-github",
        "colab_type": "text"
      },
      "source": [
        "<a href=\"https://colab.research.google.com/github/Priyanka5810/700744635/blob/main/Assignment5.ipynb\" target=\"_parent\"><img src=\"https://colab.research.google.com/assets/colab-badge.svg\" alt=\"Open In Colab\"/></a>"
      ]
    },
    {
      "cell_type": "code",
      "execution_count": null,
      "metadata": {
        "colab": {
          "base_uri": "https://localhost:8080/"
        },
        "id": "FO17EVp-UWs3",
        "outputId": "bad08ccd-7edd-4a98-8ca7-862e61658b21"
      },
      "outputs": [
        {
          "output_type": "stream",
          "name": "stdout",
          "text": [
            "Accuracy: 0.46296296296296297\n",
            "\n",
            "Classification Report:\n",
            "              precision    recall  f1-score   support\n",
            "\n",
            "           1       0.32      0.64      0.43        14\n",
            "           2       0.45      0.21      0.29        24\n",
            "           3       0.50      0.40      0.44         5\n",
            "           5       0.00      0.00      0.00         2\n",
            "           6       0.67      1.00      0.80         2\n",
            "           7       1.00      1.00      1.00         7\n",
            "\n",
            "    accuracy                           0.46        54\n",
            "   macro avg       0.49      0.54      0.49        54\n",
            "weighted avg       0.49      0.46      0.44        54\n",
            "\n"
          ]
        }
      ],
      "source": [
        "#PROGRAM 2\n",
        "# importing the necessary packages\n",
        "import pandas as pd\n",
        "from sklearn.model_selection import train_test_split\n",
        "from sklearn.naive_bayes import GaussianNB\n",
        "from sklearn.metrics import classification_report, accuracy_score\n",
        "\n",
        "# Load the glass dataset into a pandas dataframe\n",
        "glass_df = pd.read_csv('glass.csv')\n",
        "X = glass_df.iloc[:, :-1]\n",
        "Y = glass_df.iloc[:, -1]\n",
        "\n",
        "# Split the data into training and testing sets\n",
        "X_train, X_test, y_train, y_test = train_test_split(X, Y, test_size=0.25, random_state=0)\n",
        "\n",
        "# Initialize Gaussian Naive Bayes classifier\n",
        "gnb_clf = GaussianNB()\n",
        "\n",
        "# Training the classifier on the training data\n",
        "gnb_clf.fit(X_train, y_train)\n",
        "\n",
        "# to make predictions on the test data\n",
        "y_pred = gnb_clf.predict(X_test)\n",
        "\n",
        "# Evaluate the model on test part using the accuracy score and the classification report\n",
        "print('Accuracy:', accuracy_score(y_test, y_pred))\n",
        "print('\\nClassification Report:')\n",
        "print(classification_report(y_test,y_pred))"
      ]
    },
    {
      "cell_type": "code",
      "source": [
        "# PROGRAM 1\n",
        "# importing packages\n",
        "import pandas as pd\n",
        "from sklearn.svm import SVC\n",
        "from sklearn.naive_bayes import GaussianNB\n",
        "from sklearn.model_selection import train_test_split\n",
        "import time\n",
        "import warnings\n",
        "from sklearn import metrics\n",
        "\n",
        "# read the csv data into pandas data frame\n",
        "glass_df = pd.read_csv(\"glass.csv\")\n",
        "\n",
        "# Splitting the data into training and testing sets\n",
        "X_train, X_test = train_test_split(glass_df, test_size=0.2, random_state=int(time.time()))\n",
        "\n",
        "# features columns\n",
        "features = [\n",
        "    \"RI\", \"Na\", \"Mg\", \"Al\", \"Si\", \"K\", \"Ca\", \"Ba\", \"Fe\"\n",
        "]\n",
        "\n",
        "# Naïve Bayes Classifier initilizing\n",
        "gauss_clf = GaussianNB()\n",
        "# train the classifier\n",
        "gauss_clf.fit(\n",
        "    X_train[features].values,\n",
        "    X_train[\"Type\"]\n",
        ")\n",
        "\n",
        "\n",
        "# make predictions\n",
        "y_pred = gauss_clf.predict(X_test[features])\n",
        "print(\"Naïve Bayes\\nTotal number of points: {}\\nMislabeled points : {}\\nAccuracy {:05.2f}%\"\n",
        "      .format(\n",
        "          X_test.shape[0],\n",
        "          (X_test[\"Type\"] != y_pred).sum(),\n",
        "          100 * (1 - (X_test[\"Type\"] != y_pred).sum() / X_test.shape[0])\n",
        "      ))\n",
        "print(\"\\n\")\n",
        "\n",
        "\n",
        "# Naïve Bayes Classifier performance\n",
        "print(metrics.classification_report(X_test[\"Type\"], y_pred))\n",
        "\n",
        "# Linear Support Vector Classification with Linear kernel\n",
        "svcLin = SVC(kernel='linear')\n",
        "\n",
        "# train linear SVM model\n",
        "svcLin.fit(\n",
        "    X_train[features].values,\n",
        "    X_train[\"Type\"]\n",
        ")\n",
        "Y_pred = svcLin.predict(X_test[features])\n",
        "\n",
        "\n",
        "# Linear SVM Model performance\n",
        "acc_svc = round(svcLin.score(\n",
        "    X_test[features].values, X_test[\"Type\"]) * 100, 2)\n",
        "print(\"Linear SVM accuracy is:\", acc_svc)\n",
        "\n",
        "\n",
        "# Support vector classifier with the radial basis function kernel\n",
        "svcRbf = SVC(kernel='rbf')\n",
        "svcRbf.fit(\n",
        "    X_train[features].values,\n",
        "    X_train[\"Type\"]\n",
        ")\n",
        "\n",
        "# model predictions\n",
        "Y_pred = svcRbf.predict(X_test[features])\n",
        "\n",
        "\n",
        "# SVM RBF Model performance\n",
        "acc_svc = round(svcRbf.score(\n",
        "    X_test[features].values, X_test[\"Type\"]) * 100, 2)\n",
        "print(\"SVM RBF model accuracy is:\", acc_svc)\n",
        "print(\"\\n\")\n",
        "print(metrics.classification_report(X_test[\"Type\"],Y_pred))"
      ],
      "metadata": {
        "colab": {
          "base_uri": "https://localhost:8080/"
        },
        "id": "nvoA9-Y0UnQR",
        "outputId": "f869b7fd-641a-4f61-95ab-d2fcaac0f713"
      },
      "execution_count": null,
      "outputs": [
        {
          "output_type": "stream",
          "name": "stdout",
          "text": [
            "Naïve Bayes\n",
            "Total number of points: 43\n",
            "Mislabeled points : 30\n",
            "Accuracy 30.23%\n",
            "\n",
            "\n",
            "              precision    recall  f1-score   support\n",
            "\n",
            "           1       0.67      0.30      0.41        20\n",
            "           2       0.60      0.19      0.29        16\n",
            "           3       0.00      0.00      0.00         1\n",
            "           5       0.00      0.00      0.00         2\n",
            "           6       0.33      1.00      0.50         1\n",
            "           7       0.75      1.00      0.86         3\n",
            "\n",
            "    accuracy                           0.30        43\n",
            "   macro avg       0.39      0.41      0.34        43\n",
            "weighted avg       0.59      0.30      0.37        43\n",
            "\n",
            "Linear SVM accuracy is: 62.79\n",
            "SVM RBF model accuracy is: 37.21\n",
            "\n",
            "\n",
            "              precision    recall  f1-score   support\n",
            "\n",
            "           1       0.00      0.00      0.00        20\n",
            "           2       0.37      1.00      0.54        16\n",
            "           3       0.00      0.00      0.00         1\n",
            "           5       0.00      0.00      0.00         2\n",
            "           6       0.00      0.00      0.00         1\n",
            "           7       0.00      0.00      0.00         3\n",
            "\n",
            "    accuracy                           0.37        43\n",
            "   macro avg       0.06      0.17      0.09        43\n",
            "weighted avg       0.14      0.37      0.20        43\n",
            "\n"
          ]
        },
        {
          "output_type": "stream",
          "name": "stderr",
          "text": [
            "/usr/local/lib/python3.10/dist-packages/sklearn/base.py:432: UserWarning: X has feature names, but GaussianNB was fitted without feature names\n",
            "  warnings.warn(\n",
            "/usr/local/lib/python3.10/dist-packages/sklearn/metrics/_classification.py:1344: UndefinedMetricWarning: Precision and F-score are ill-defined and being set to 0.0 in labels with no predicted samples. Use `zero_division` parameter to control this behavior.\n",
            "  _warn_prf(average, modifier, msg_start, len(result))\n",
            "/usr/local/lib/python3.10/dist-packages/sklearn/metrics/_classification.py:1344: UndefinedMetricWarning: Precision and F-score are ill-defined and being set to 0.0 in labels with no predicted samples. Use `zero_division` parameter to control this behavior.\n",
            "  _warn_prf(average, modifier, msg_start, len(result))\n",
            "/usr/local/lib/python3.10/dist-packages/sklearn/metrics/_classification.py:1344: UndefinedMetricWarning: Precision and F-score are ill-defined and being set to 0.0 in labels with no predicted samples. Use `zero_division` parameter to control this behavior.\n",
            "  _warn_prf(average, modifier, msg_start, len(result))\n",
            "/usr/local/lib/python3.10/dist-packages/sklearn/base.py:432: UserWarning: X has feature names, but SVC was fitted without feature names\n",
            "  warnings.warn(\n",
            "/usr/local/lib/python3.10/dist-packages/sklearn/base.py:432: UserWarning: X has feature names, but SVC was fitted without feature names\n",
            "  warnings.warn(\n",
            "/usr/local/lib/python3.10/dist-packages/sklearn/metrics/_classification.py:1344: UndefinedMetricWarning: Precision and F-score are ill-defined and being set to 0.0 in labels with no predicted samples. Use `zero_division` parameter to control this behavior.\n",
            "  _warn_prf(average, modifier, msg_start, len(result))\n",
            "/usr/local/lib/python3.10/dist-packages/sklearn/metrics/_classification.py:1344: UndefinedMetricWarning: Precision and F-score are ill-defined and being set to 0.0 in labels with no predicted samples. Use `zero_division` parameter to control this behavior.\n",
            "  _warn_prf(average, modifier, msg_start, len(result))\n",
            "/usr/local/lib/python3.10/dist-packages/sklearn/metrics/_classification.py:1344: UndefinedMetricWarning: Precision and F-score are ill-defined and being set to 0.0 in labels with no predicted samples. Use `zero_division` parameter to control this behavior.\n",
            "  _warn_prf(average, modifier, msg_start, len(result))\n"
          ]
        }
      ]
    }
  ]
}