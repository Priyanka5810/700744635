{
  "nbformat": 4,
  "nbformat_minor": 0,
  "metadata": {
    "colab": {
      "provenance": []
    },
    "kernelspec": {
      "name": "python3",
      "display_name": "Python 3"
    },
    "language_info": {
      "name": "python"
    }
  },
  "cells": [
    {
      "cell_type": "code",
      "execution_count": 1,
      "metadata": {
        "colab": {
          "base_uri": "https://localhost:8080/"
        },
        "id": "Z7U4-U0i2GL6",
        "outputId": "66398192-917a-499a-ef1f-f9134eee898f"
      },
      "outputs": [
        {
          "output_type": "stream",
          "name": "stdout",
          "text": [
            "Enter your first Name: priyanka\n",
            "Enter your last Name: chowdary\n",
            "Your full name is  priyanka chowdary\n",
            "Enter a string to print alternate characters: priyankachowdary\n",
            "Alternative characters are piakcodr\n"
          ]
        }
      ],
      "source": [
        "# method to print full name by combining firstname and lastname\n",
        "def full__Name(fName, lName):\n",
        "    Full_name = first__Name + \" \" + last__Name\n",
        "    print(\"Your full name is \", Full_name)\n",
        "\n",
        "# method to print alternative characters of a string\n",
        "def string_alternative(str):\n",
        "    print(\"Alternative characters are \" + str[::2])\n",
        "\n",
        "if __name__ == \"__main__\":\n",
        "    first__Name = input(\"Enter your first Name: \")\n",
        "    last__Name = input(\"Enter your last Name: \")\n",
        "    full__Name(first__Name, last__Name)\n",
        "    str = input(\"Enter a string to print alternate characters: \")\n",
        "    string_alternative(str)"
      ]
    },
    {
      "cell_type": "code",
      "source": [
        "f = open(\"testinput.txt\",\"w\")\n",
        "f.write(\"Python Course\\n\")\n",
        "f.write(\"Deep learning course\\n\")\n",
        "f.close()\n",
        "f= open(\"testinput.txt\",\"r\")\n",
        "print(f.read())"
      ],
      "metadata": {
        "colab": {
          "base_uri": "https://localhost:8080/"
        },
        "id": "ld3OSrYg3Mp8",
        "outputId": "e2149200-a7fb-4045-e69f-198106e36008"
      },
      "execution_count": null,
      "outputs": [
        {
          "output_type": "stream",
          "name": "stdout",
          "text": [
            "Python Course\n",
            "Deep learning course\n",
            "\n"
          ]
        }
      ]
    },
    {
      "cell_type": "code",
      "source": [
        "from collections import Counter\n",
        "\n",
        "# Reading input from input.txt\n",
        "with open('testinput.txt', 'r') as file:\n",
        "    lines = file.readlines()\n",
        "\n",
        "# Processing each line and count words\n",
        "wordcountperline = []\n",
        "\n",
        "for line in lines:\n",
        "    words = line.strip().split()\n",
        "    wordcountperline.append(Counter(words))\n",
        "\n",
        "# Printing the lines\n",
        "for line in lines:\n",
        "    print(line.strip())\n",
        "\n",
        "# Printing word counts for each word\n",
        "print(\"Word_Count:\")\n",
        "for word, count in Counter(word for wc in wordcountperline for word in wc).items():\n",
        "    print(f\"{word}: {count}\")\n",
        "\n",
        "# Storing the output in output.txt\n",
        "with open('testoutput.txt', 'w') as output_file:\n",
        "    for line in lines:\n",
        "        output_file.write(line)\n",
        "    output_file.write(\"Word_Count:\\n\")\n",
        "    for word, count in Counter(word for wc in wordcountperline for word in wc).items():\n",
        "        output_file.write(f\"{word}: {count}\\n\")"
      ],
      "metadata": {
        "colab": {
          "base_uri": "https://localhost:8080/"
        },
        "id": "BVOBvfA83Qhl",
        "outputId": "f08e9350-6345-49e9-a1cc-e6d036fd234a"
      },
      "execution_count": null,
      "outputs": [
        {
          "output_type": "stream",
          "name": "stdout",
          "text": [
            "Python Course\n",
            "Deep learning course\n",
            "Word_Count:\n",
            "Python: 1\n",
            "Course: 1\n",
            "Deep: 1\n",
            "learning: 1\n",
            "course: 1\n"
          ]
        }
      ]
    },
    {
      "cell_type": "code",
      "source": [
        "# below code snippet is the conversion of heights from inches to cms\n",
        "# using Nested Interactive loop & List comprehensions\n",
        "heights_List = []\n",
        "elements = int(input(\"Enter size of list: \"))\n",
        "for e in range(elements):\n",
        "    heights_List.append(float(input()))\n",
        "tempHeights_List = [2.54 * item for item in heights_List]\n",
        "print(tempHeights_List)"
      ],
      "metadata": {
        "colab": {
          "base_uri": "https://localhost:8080/"
        },
        "id": "ugXMPHGc3li1",
        "outputId": "93e430dd-ce50-49fc-f7e2-65d12421f883"
      },
      "execution_count": null,
      "outputs": [
        {
          "output_type": "stream",
          "name": "stdout",
          "text": [
            "Enter size of list: 4\n",
            "123\n",
            "143\n",
            "156\n",
            "172\n",
            "[312.42, 363.22, 396.24, 436.88]\n"
          ]
        }
      ]
    }
  ]
}