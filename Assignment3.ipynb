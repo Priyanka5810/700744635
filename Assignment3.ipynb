{
  "nbformat": 4,
  "nbformat_minor": 0,
  "metadata": {
    "colab": {
      "provenance": [],
      "authorship_tag": "ABX9TyPyIoPJ3Fi5uiFj7e6NoGag",
      "include_colab_link": true
    },
    "kernelspec": {
      "name": "python3",
      "display_name": "Python 3"
    },
    "language_info": {
      "name": "python"
    }
  },
  "cells": [
    {
      "cell_type": "markdown",
      "metadata": {
        "id": "view-in-github",
        "colab_type": "text"
      },
      "source": [
        "<a href=\"https://colab.research.google.com/github/Priyanka5810/700744635/blob/main/Assignment3.ipynb\" target=\"_parent\"><img src=\"https://colab.research.google.com/assets/colab-badge.svg\" alt=\"Open In Colab\"/></a>"
      ]
    },
    {
      "cell_type": "code",
      "source": [
        "#Program 1\n",
        "class Employee:\n",
        "    # Class variable to count the number of employees\n",
        "    employee_count = 0\n",
        "\n",
        "    def __init__(self, name, family, salary, department):\n",
        "        # Instance variables\n",
        "        self.name = name\n",
        "        self.family = family\n",
        "        self.salary = salary\n",
        "        self.department = department\n",
        "\n",
        "        # Increment the employee count when a new employee is created\n",
        "        Employee.employee_count += 1\n",
        "\n",
        "    def average_salary(self, *salaries):\n",
        "        # Calculate and return the average salary\n",
        "        total_salary = sum(salaries) + self.salary\n",
        "        num_employees = len(salaries) + 1  # Include the current instance\n",
        "        return total_salary / num_employees\n",
        "\n",
        "\n",
        "class FullTimeEmployee(Employee):\n",
        "    # Additional properties for FullTimeEmployee can be added here\n",
        "\n",
        "    def __init__(self, name, family, salary, department, fulltime_property):\n",
        "        # Call the constructor of the base class (Employee)\n",
        "        super().__init__(name, family, salary, department)\n",
        "\n",
        "        # Additional property specific to FullTimeEmployee\n",
        "        self.fulltime_property = fulltime_property\n",
        "\n",
        "\n",
        "# Create instances of Employee class\n",
        "employee1 = Employee(\"Priyanka p\", \"Family1\", 50000, \"HR\")\n",
        "employee2 = Employee(\"Jessica e\", \"Family2\", 60000, \"IT\")\n",
        "\n",
        "# Call the average_salary function for Employee class\n",
        "average_salary_employee = employee1.average_salary(employee2.salary)\n",
        "print(f\"Average Salary for Employees: {average_salary_employee}\")\n",
        "\n",
        "# Create instances of FullTimeEmployee class\n",
        "fulltime_employee = FullTimeEmployee(\"Alice\", \"Family3\", 70000, \"Finance\", \"FullTimeProperty\")\n",
        "\n",
        "# Call the average_salary function for FullTimeEmployee class\n",
        "average_salary_fulltime_employee = fulltime_employee.average_salary()\n",
        "print(f\"Average Salary for FullTimeEmployee: {average_salary_fulltime_employee}\")\n",
        "\n",
        "# Print the total count of employees\n",
        "print(f\"Total Employees: {Employee.employee_count}\")\n"
      ],
      "metadata": {
        "colab": {
          "base_uri": "https://localhost:8080/"
        },
        "id": "o0gSOC86_6qb",
        "outputId": "58a68a0f-cb61-4b5b-f843-c4bdba339817"
      },
      "execution_count": 32,
      "outputs": [
        {
          "output_type": "stream",
          "name": "stdout",
          "text": [
            "Average Salary for Employees: 55000.0\n",
            "Average Salary for FullTimeEmployee: 70000.0\n",
            "Total Employees: 3\n"
          ]
        }
      ]
    },
    {
      "cell_type": "code",
      "source": [
        "# Program2\n",
        "import numpy as np\n",
        "\n",
        "# numpy array with random values in 4 by 5 size\n",
        "randNumArray = np.random.uniform(low=1, high=20, size=(4,5))\n",
        "\n",
        "# finding the indices with maximum values\n",
        "maxIndices = np.argmax(randNumArray, axis=1)\n",
        "\n",
        "# finding the row indices\n",
        "rowIndices = np.arange(randNumArray.shape[0])\n",
        "\n",
        "# finding the exact positions of maximium valuesin the array\n",
        "positionIndices = np.array([rowIndices, maxIndices])\n",
        "\n",
        "# to convert the array into an array of flat indices\n",
        "linearIndices = np.ravel_multi_index(positionIndices, randNumArray.shape)\n",
        "\n",
        "# reshaping the linear array into multi dimensionanl array\n",
        "randNumArray.reshape((-1))[linearIndices] = 0\n",
        "\n",
        "print(randNumArray)"
      ],
      "metadata": {
        "colab": {
          "base_uri": "https://localhost:8080/"
        },
        "id": "KF5IgM8qADwq",
        "outputId": "76e7d4f4-8aba-4efd-a0c6-0b492860e68e"
      },
      "execution_count": 33,
      "outputs": [
        {
          "output_type": "stream",
          "name": "stdout",
          "text": [
            "[[ 0.         10.81757309  9.54674015  4.84644213 13.32996916]\n",
            " [ 0.          1.82195082 13.10047456 17.97265608 17.70821902]\n",
            " [ 6.60924617  8.5458955   3.87306184 16.9397489   0.        ]\n",
            " [ 3.24455581  8.34746063  0.         12.75888728 12.56880409]]\n"
          ]
        }
      ]
    }
  ]
}